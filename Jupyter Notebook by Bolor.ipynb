{
 "cells": [
  {
   "cell_type": "markdown",
   "id": "ca8cd4ef-08ca-469e-961f-56ff2a15228a",
   "metadata": {
    "tags": []
   },
   "source": [
    "# My Jupyter Notebook on IBM Watson Studio"
   ]
  },
  {
   "cell_type": "markdown",
   "id": "52c5cafe-d6ed-4630-83a2-ce10b0952834",
   "metadata": {},
   "source": [
    "**Bolortuya Batkhuu**\n",
    "Desired occupation: Data analyst"
   ]
  },
  {
   "cell_type": "markdown",
   "id": "cf876daf-d5b4-4ac1-8a00-fbf31b4823c1",
   "metadata": {},
   "source": [
    "* The reason I choose to learn Data Science is to improve my analytical skills and logical thinking *"
   ]
  },
  {
   "cell_type": "markdown",
   "id": "6924abde-dbc9-4b2b-857f-3d7bf8cbab65",
   "metadata": {
    "tags": []
   },
   "source": [
    "### It is a simple multiplication. 8 multiplied by 9. The answer is 72."
   ]
  },
  {
   "cell_type": "code",
   "execution_count": 1,
   "id": "ee87ee9a-8fe3-4e13-80aa-66c2bc76f046",
   "metadata": {},
   "outputs": [
    {
     "data": {
      "text/plain": [
       "72"
      ]
     },
     "execution_count": 1,
     "metadata": {},
     "output_type": "execute_result"
    }
   ],
   "source": [
    "8*9"
   ]
  },
  {
   "cell_type": "markdown",
   "id": "d0ce1a53-044a-4ce8-a2b0-a43349747b3d",
   "metadata": {},
   "source": [
    "My daily To-do lists include the following:\n",
    "- Workout\n",
    "  - Yoga\n",
    "  - Cardio\n",
    "- Study\n",
    "\n",
    "Subjects             |  Sources     \n",
    "------------------- | :--------:  \n",
    "Data Science basics |  [`Coursera`](https://www.coursera.org/) \n",
    "Python              |  Book       \n",
    "Swedish language    |  [Youtube](https://www.youtube.com/)  \n",
    "\n",
    ">A little suggestion to anyone on the same path with me\n",
    ">1. The thing I say to myself whenever I feel not to do: Muhammad Ali once said that he hated every minute of his training. \n",
    ">2. The thing I say to myself before my study: Forget everything and focus, 1h of steady work is equal to 3 hours of distracted one\n",
    ">3. Break a leg ;)\n",
    "\n",
    "```javascript\n",
    "\n",
    "function countDown(){\n",
    "    let count = 1000;\n",
    "    count--;\n",
    "}\n",
    "    alert(setInterval(countDown(),1000));\n",
    "```"
   ]
  },
  {
   "cell_type": "code",
   "execution_count": null,
   "id": "84baa3e5-e1b9-49ac-9b12-458d100f1b30",
   "metadata": {},
   "outputs": [],
   "source": []
  },
  {
   "cell_type": "code",
   "execution_count": null,
   "id": "49bf852f-ec8e-443b-98e1-5832948961f9",
   "metadata": {},
   "outputs": [],
   "source": []
  }
 ],
 "metadata": {
  "kernelspec": {
   "display_name": "Python",
   "language": "python",
   "name": "conda-env-python-py"
  },
  "language_info": {
   "codemirror_mode": {
    "name": "ipython",
    "version": 3
   },
   "file_extension": ".py",
   "mimetype": "text/x-python",
   "name": "python",
   "nbconvert_exporter": "python",
   "pygments_lexer": "ipython3",
   "version": "3.7.12"
  }
 },
 "nbformat": 4,
 "nbformat_minor": 5
}
